{
 "cells": [
  {
   "cell_type": "code",
   "execution_count": 21,
   "metadata": {},
   "outputs": [],
   "source": [
    "from mosqlient import get_infodengue\n",
    "import pandas as pd\n",
    "import numpy as np\n",
    "from datetime import date\n",
    "import time\n",
    "from aiohttp import ClientConnectionError\n",
    "\n",
    "ufs = [\n",
    "    \"AC\", \"AL\", \"AP\", \"AM\", \"BA\", \"CE\", \"DF\", \"ES\", \"GO\", \"MA\", \n",
    "    \"MT\", \"MS\", \"MG\", \"PA\", \"PB\", \"PR\", \"PE\", \"PI\", \"RJ\", \"RN\", \n",
    "    \"RS\", \"RO\", \"RR\", \"SC\", \"SP\", \"SE\", \"TO\"\n",
    "]\n",
    "years = range(2018, 2025)\n",
    "arboviroses = ['dengue', 'chikungunya'] \n",
    "dfs = []"
   ]
  },
  {
   "cell_type": "code",
   "execution_count": 22,
   "metadata": {},
   "outputs": [
    {
     "name": "stdout",
     "output_type": "stream",
     "text": [
      "AC - chikungunya - 2018\n",
      "Próximo ano\n",
      "AC - chikungunya - 2019\n",
      "Próximo ano\n",
      "AC - chikungunya - 2020\n",
      "Próximo ano\n",
      "AC - chikungunya - 2021\n",
      "Próximo ano\n",
      "AC - chikungunya - 2022\n",
      "Próximo ano\n",
      "AC - chikungunya - 2023\n",
      "Próximo ano\n",
      "AC - chikungunya - 2024\n",
      "Próximo ano\n"
     ]
    },
    {
     "name": "stderr",
     "output_type": "stream",
     "text": [
      "C:\\Users\\lucas\\AppData\\Local\\Temp\\ipykernel_45624\\4081768529.py:58: FutureWarning: The behavior of DataFrame concatenation with empty or all-NA entries is deprecated. In a future version, this will no longer exclude empty or all-NA columns when determining the result dtypes. To retain the old behavior, exclude the relevant entries before the concat operation.\n",
      "  df_uf = pd.concat(dfs, ignore_index=True)\n"
     ]
    },
    {
     "name": "stdout",
     "output_type": "stream",
     "text": [
      "Esperando 5:30min\n",
      "AL - chikungunya - 2018\n",
      "Próximo ano\n",
      "AL - chikungunya - 2019\n",
      "Próximo ano\n",
      "AL - chikungunya - 2020\n",
      "Próximo ano\n",
      "AL - chikungunya - 2021\n",
      "Próximo ano\n",
      "AL - chikungunya - 2022\n",
      "Próximo ano\n",
      "AL - chikungunya - 2023\n",
      "Próximo ano\n",
      "AL - chikungunya - 2024\n",
      "Próximo ano\n"
     ]
    },
    {
     "name": "stderr",
     "output_type": "stream",
     "text": [
      "C:\\Users\\lucas\\AppData\\Local\\Temp\\ipykernel_45624\\4081768529.py:58: FutureWarning: The behavior of DataFrame concatenation with empty or all-NA entries is deprecated. In a future version, this will no longer exclude empty or all-NA columns when determining the result dtypes. To retain the old behavior, exclude the relevant entries before the concat operation.\n",
      "  df_uf = pd.concat(dfs, ignore_index=True)\n"
     ]
    },
    {
     "name": "stdout",
     "output_type": "stream",
     "text": [
      "Esperando 5:30min\n",
      "AP - chikungunya - 2018\n",
      "Próximo ano\n",
      "AP - chikungunya - 2019\n",
      "Próximo ano\n",
      "AP - chikungunya - 2020\n",
      "Próximo ano\n",
      "AP - chikungunya - 2021\n",
      "Próximo ano\n",
      "AP - chikungunya - 2022\n",
      "Próximo ano\n",
      "AP - chikungunya - 2023\n",
      "Próximo ano\n",
      "AP - chikungunya - 2024\n",
      "Próximo ano\n"
     ]
    },
    {
     "name": "stderr",
     "output_type": "stream",
     "text": [
      "C:\\Users\\lucas\\AppData\\Local\\Temp\\ipykernel_45624\\4081768529.py:58: FutureWarning: The behavior of DataFrame concatenation with empty or all-NA entries is deprecated. In a future version, this will no longer exclude empty or all-NA columns when determining the result dtypes. To retain the old behavior, exclude the relevant entries before the concat operation.\n",
      "  df_uf = pd.concat(dfs, ignore_index=True)\n"
     ]
    },
    {
     "name": "stdout",
     "output_type": "stream",
     "text": [
      "Esperando 5:30min\n",
      "AM - chikungunya - 2018\n",
      "Próximo ano\n",
      "AM - chikungunya - 2019\n",
      "Próximo ano\n",
      "AM - chikungunya - 2020\n",
      "Próximo ano\n",
      "AM - chikungunya - 2021\n",
      "Próximo ano\n",
      "AM - chikungunya - 2022\n",
      "Próximo ano\n",
      "AM - chikungunya - 2023\n",
      "Próximo ano\n",
      "AM - chikungunya - 2024\n",
      "Próximo ano\n"
     ]
    },
    {
     "name": "stderr",
     "output_type": "stream",
     "text": [
      "C:\\Users\\lucas\\AppData\\Local\\Temp\\ipykernel_45624\\4081768529.py:58: FutureWarning: The behavior of DataFrame concatenation with empty or all-NA entries is deprecated. In a future version, this will no longer exclude empty or all-NA columns when determining the result dtypes. To retain the old behavior, exclude the relevant entries before the concat operation.\n",
      "  df_uf = pd.concat(dfs, ignore_index=True)\n"
     ]
    },
    {
     "name": "stdout",
     "output_type": "stream",
     "text": [
      "Esperando 5:30min\n",
      "BA - chikungunya - 2018\n",
      "Erro de conexão: Response status: 500. Reason: Internal Server Error. Tentando novamente em 5 minutos.\n",
      "Erro de conexão: Response status: 500. Reason: Internal Server Error. Tentando novamente em 5 minutos.\n",
      "Próximo ano\n",
      "BA - chikungunya - 2019\n",
      "Erro de conexão: Response status: 500. Reason: Internal Server Error. Tentando novamente em 5 minutos.\n",
      "Erro de conexão: Response status: 500. Reason: Internal Server Error. Tentando novamente em 5 minutos.\n",
      "Erro de conexão: Cannot connect to host api.mosqlimate.org:443 ssl:default [getaddrinfo failed]. Tentando novamente em 5 minutos.\n",
      "Próximo ano\n",
      "BA - chikungunya - 2020\n",
      "Erro de conexão: Response status: 500. Reason: Internal Server Error. Tentando novamente em 5 minutos.\n",
      "Erro de conexão: Response status: 500. Reason: Internal Server Error. Tentando novamente em 5 minutos.\n",
      "Próximo ano\n",
      "BA - chikungunya - 2021\n",
      "Erro de conexão: Response status: 500. Reason: Internal Server Error. Tentando novamente em 5 minutos.\n",
      "Próximo ano\n",
      "BA - chikungunya - 2022\n",
      "Erro de conexão: Response status: 500. Reason: Internal Server Error. Tentando novamente em 5 minutos.\n",
      "Próximo ano\n",
      "BA - chikungunya - 2023\n",
      "Erro de conexão: Response status: 500. Reason: Internal Server Error. Tentando novamente em 5 minutos.\n",
      "Erro de conexão: Response status: 500. Reason: Internal Server Error. Tentando novamente em 5 minutos.\n",
      "Próximo ano\n",
      "BA - chikungunya - 2024\n",
      "Erro de conexão: Response status: 500. Reason: Internal Server Error. Tentando novamente em 5 minutos.\n",
      "Próximo ano\n"
     ]
    },
    {
     "name": "stderr",
     "output_type": "stream",
     "text": [
      "C:\\Users\\lucas\\AppData\\Local\\Temp\\ipykernel_45624\\4081768529.py:58: FutureWarning: The behavior of DataFrame concatenation with empty or all-NA entries is deprecated. In a future version, this will no longer exclude empty or all-NA columns when determining the result dtypes. To retain the old behavior, exclude the relevant entries before the concat operation.\n",
      "  df_uf = pd.concat(dfs, ignore_index=True)\n"
     ]
    },
    {
     "name": "stdout",
     "output_type": "stream",
     "text": [
      "Esperando 5:30min\n",
      "CE - chikungunya - 2018\n",
      "Erro de conexão: Response status: 500. Reason: Internal Server Error. Tentando novamente em 5 minutos.\n",
      "Próximo ano\n",
      "CE - chikungunya - 2019\n",
      "Erro de conexão: Response status: 500. Reason: Internal Server Error. Tentando novamente em 5 minutos.\n",
      "Próximo ano\n",
      "CE - chikungunya - 2020\n",
      "Próximo ano\n",
      "CE - chikungunya - 2021\n",
      "Erro de conexão: Response status: 500. Reason: Internal Server Error. Tentando novamente em 5 minutos.\n",
      "Próximo ano\n",
      "CE - chikungunya - 2022\n",
      "Erro de conexão: Response status: 500. Reason: Internal Server Error. Tentando novamente em 5 minutos.\n",
      "Próximo ano\n",
      "CE - chikungunya - 2023\n",
      "Erro de conexão: Response status: 500. Reason: Internal Server Error. Tentando novamente em 5 minutos.\n",
      "Próximo ano\n",
      "CE - chikungunya - 2024\n",
      "Próximo ano\n"
     ]
    },
    {
     "name": "stderr",
     "output_type": "stream",
     "text": [
      "C:\\Users\\lucas\\AppData\\Local\\Temp\\ipykernel_45624\\4081768529.py:58: FutureWarning: The behavior of DataFrame concatenation with empty or all-NA entries is deprecated. In a future version, this will no longer exclude empty or all-NA columns when determining the result dtypes. To retain the old behavior, exclude the relevant entries before the concat operation.\n",
      "  df_uf = pd.concat(dfs, ignore_index=True)\n"
     ]
    },
    {
     "name": "stdout",
     "output_type": "stream",
     "text": [
      "Esperando 5:30min\n",
      "DF - chikungunya - 2018\n",
      "Próximo ano\n",
      "DF - chikungunya - 2019\n",
      "Próximo ano\n",
      "DF - chikungunya - 2020\n",
      "Próximo ano\n",
      "DF - chikungunya - 2021\n",
      "Próximo ano\n",
      "DF - chikungunya - 2022\n",
      "Próximo ano\n",
      "DF - chikungunya - 2023\n",
      "Próximo ano\n",
      "DF - chikungunya - 2024\n",
      "Próximo ano\n"
     ]
    },
    {
     "name": "stderr",
     "output_type": "stream",
     "text": [
      "C:\\Users\\lucas\\AppData\\Local\\Temp\\ipykernel_45624\\4081768529.py:58: FutureWarning: The behavior of DataFrame concatenation with empty or all-NA entries is deprecated. In a future version, this will no longer exclude empty or all-NA columns when determining the result dtypes. To retain the old behavior, exclude the relevant entries before the concat operation.\n",
      "  df_uf = pd.concat(dfs, ignore_index=True)\n"
     ]
    },
    {
     "name": "stdout",
     "output_type": "stream",
     "text": [
      "Esperando 5:30min\n",
      "ES - chikungunya - 2018\n",
      "Próximo ano\n",
      "ES - chikungunya - 2019\n",
      "Próximo ano\n",
      "ES - chikungunya - 2020\n",
      "Próximo ano\n",
      "ES - chikungunya - 2021\n",
      "Próximo ano\n",
      "ES - chikungunya - 2022\n",
      "Próximo ano\n",
      "ES - chikungunya - 2023\n",
      "Próximo ano\n",
      "ES - chikungunya - 2024\n",
      "Próximo ano\n"
     ]
    },
    {
     "name": "stderr",
     "output_type": "stream",
     "text": [
      "C:\\Users\\lucas\\AppData\\Local\\Temp\\ipykernel_45624\\4081768529.py:58: FutureWarning: The behavior of DataFrame concatenation with empty or all-NA entries is deprecated. In a future version, this will no longer exclude empty or all-NA columns when determining the result dtypes. To retain the old behavior, exclude the relevant entries before the concat operation.\n",
      "  df_uf = pd.concat(dfs, ignore_index=True)\n"
     ]
    },
    {
     "name": "stdout",
     "output_type": "stream",
     "text": [
      "Esperando 5:30min\n",
      "GO - chikungunya - 2018\n",
      "Erro de conexão: Response status: 500. Reason: Internal Server Error. Tentando novamente em 5 minutos.\n",
      "Próximo ano\n",
      "GO - chikungunya - 2019\n",
      "Erro de conexão: Response status: 500. Reason: Internal Server Error. Tentando novamente em 5 minutos.\n",
      "Próximo ano\n",
      "GO - chikungunya - 2020\n",
      "Erro de conexão: Response status: 500. Reason: Internal Server Error. Tentando novamente em 5 minutos.\n",
      "Próximo ano\n",
      "GO - chikungunya - 2021\n",
      "Erro de conexão: Response status: 500. Reason: Internal Server Error. Tentando novamente em 5 minutos.\n",
      "Próximo ano\n",
      "GO - chikungunya - 2022\n",
      "Erro de conexão: Response status: 500. Reason: Internal Server Error. Tentando novamente em 5 minutos.\n",
      "Próximo ano\n",
      "GO - chikungunya - 2023\n",
      "Erro de conexão: Response status: 500. Reason: Internal Server Error. Tentando novamente em 5 minutos.\n",
      "Próximo ano\n",
      "GO - chikungunya - 2024\n",
      "Erro de conexão: Response status: 500. Reason: Internal Server Error. Tentando novamente em 5 minutos.\n",
      "Erro de conexão: Response status: 500. Reason: Internal Server Error. Tentando novamente em 5 minutos.\n",
      "Próximo ano\n"
     ]
    },
    {
     "name": "stderr",
     "output_type": "stream",
     "text": [
      "C:\\Users\\lucas\\AppData\\Local\\Temp\\ipykernel_45624\\4081768529.py:58: FutureWarning: The behavior of DataFrame concatenation with empty or all-NA entries is deprecated. In a future version, this will no longer exclude empty or all-NA columns when determining the result dtypes. To retain the old behavior, exclude the relevant entries before the concat operation.\n",
      "  df_uf = pd.concat(dfs, ignore_index=True)\n"
     ]
    },
    {
     "name": "stdout",
     "output_type": "stream",
     "text": [
      "Esperando 5:30min\n",
      "MA - chikungunya - 2018\n",
      "Erro de conexão: Response status: 500. Reason: Internal Server Error. Tentando novamente em 5 minutos.\n",
      "Próximo ano\n",
      "MA - chikungunya - 2019\n",
      "Erro de conexão: Response status: 500. Reason: Internal Server Error. Tentando novamente em 5 minutos.\n",
      "Próximo ano\n",
      "MA - chikungunya - 2020\n",
      "Erro de conexão: Response status: 500. Reason: Internal Server Error. Tentando novamente em 5 minutos.\n",
      "Erro de conexão: Response status: 500. Reason: Internal Server Error. Tentando novamente em 5 minutos.\n",
      "Próximo ano\n",
      "MA - chikungunya - 2021\n",
      "Erro de conexão: Response status: 500. Reason: Internal Server Error. Tentando novamente em 5 minutos.\n",
      "Próximo ano\n",
      "MA - chikungunya - 2022\n",
      "Erro de conexão: Response status: 500. Reason: Internal Server Error. Tentando novamente em 5 minutos.\n",
      "Próximo ano\n",
      "MA - chikungunya - 2023\n",
      "Erro de conexão: Response status: 500. Reason: Internal Server Error. Tentando novamente em 5 minutos.\n",
      "Próximo ano\n",
      "MA - chikungunya - 2024\n",
      "Próximo ano\n"
     ]
    },
    {
     "name": "stderr",
     "output_type": "stream",
     "text": [
      "C:\\Users\\lucas\\AppData\\Local\\Temp\\ipykernel_45624\\4081768529.py:58: FutureWarning: The behavior of DataFrame concatenation with empty or all-NA entries is deprecated. In a future version, this will no longer exclude empty or all-NA columns when determining the result dtypes. To retain the old behavior, exclude the relevant entries before the concat operation.\n",
      "  df_uf = pd.concat(dfs, ignore_index=True)\n"
     ]
    },
    {
     "name": "stdout",
     "output_type": "stream",
     "text": [
      "Esperando 5:30min\n",
      "MT - chikungunya - 2018\n",
      "Erro de conexão: Cannot connect to host api.mosqlimate.org:443 ssl:default [Connect call failed ('65.21.204.98', 443)]. Tentando novamente em 5 minutos.\n",
      "Próximo ano\n",
      "MT - chikungunya - 2019\n",
      "Próximo ano\n",
      "MT - chikungunya - 2020\n",
      "Próximo ano\n",
      "MT - chikungunya - 2021\n",
      "Próximo ano\n",
      "MT - chikungunya - 2022\n",
      "Próximo ano\n",
      "MT - chikungunya - 2023\n",
      "Próximo ano\n",
      "MT - chikungunya - 2024\n",
      "Erro de conexão: Response status: 500. Reason: Internal Server Error. Tentando novamente em 5 minutos.\n",
      "Próximo ano\n"
     ]
    },
    {
     "name": "stderr",
     "output_type": "stream",
     "text": [
      "C:\\Users\\lucas\\AppData\\Local\\Temp\\ipykernel_45624\\4081768529.py:58: FutureWarning: The behavior of DataFrame concatenation with empty or all-NA entries is deprecated. In a future version, this will no longer exclude empty or all-NA columns when determining the result dtypes. To retain the old behavior, exclude the relevant entries before the concat operation.\n",
      "  df_uf = pd.concat(dfs, ignore_index=True)\n"
     ]
    },
    {
     "name": "stdout",
     "output_type": "stream",
     "text": [
      "Esperando 5:30min\n",
      "MS - chikungunya - 2018\n",
      "Próximo ano\n",
      "MS - chikungunya - 2019\n",
      "Próximo ano\n",
      "MS - chikungunya - 2020\n",
      "Próximo ano\n",
      "MS - chikungunya - 2021\n",
      "Próximo ano\n",
      "MS - chikungunya - 2022\n",
      "Próximo ano\n",
      "MS - chikungunya - 2023\n",
      "Próximo ano\n",
      "MS - chikungunya - 2024\n",
      "Próximo ano\n"
     ]
    },
    {
     "name": "stderr",
     "output_type": "stream",
     "text": [
      "C:\\Users\\lucas\\AppData\\Local\\Temp\\ipykernel_45624\\4081768529.py:58: FutureWarning: The behavior of DataFrame concatenation with empty or all-NA entries is deprecated. In a future version, this will no longer exclude empty or all-NA columns when determining the result dtypes. To retain the old behavior, exclude the relevant entries before the concat operation.\n",
      "  df_uf = pd.concat(dfs, ignore_index=True)\n"
     ]
    },
    {
     "name": "stdout",
     "output_type": "stream",
     "text": [
      "Esperando 5:30min\n",
      "MG - chikungunya - 2018\n",
      "Erro de conexão: Response status: 500. Reason: Internal Server Error. Tentando novamente em 5 minutos.\n",
      "Erro de conexão: Response status: 500. Reason: Internal Server Error. Tentando novamente em 5 minutos.\n",
      "Erro de conexão: Response status: 500. Reason: Internal Server Error. Tentando novamente em 5 minutos.\n",
      "Próximo ano\n",
      "MG - chikungunya - 2019\n",
      "Erro de conexão: Response status: 500. Reason: Internal Server Error. Tentando novamente em 5 minutos.\n",
      "Erro de conexão: Response status: 500. Reason: Internal Server Error. Tentando novamente em 5 minutos.\n",
      "Próximo ano\n",
      "MG - chikungunya - 2020\n",
      "Erro de conexão: Response status: 500. Reason: Internal Server Error. Tentando novamente em 5 minutos.\n",
      "Erro de conexão: Response status: 500. Reason: Internal Server Error. Tentando novamente em 5 minutos.\n",
      "Erro de conexão: Response status: 500. Reason: Internal Server Error. Tentando novamente em 5 minutos.\n",
      "Próximo ano\n",
      "MG - chikungunya - 2021\n",
      "Erro de conexão: Response status: 500. Reason: Internal Server Error. Tentando novamente em 5 minutos.\n",
      "Erro de conexão: Response status: 500. Reason: Internal Server Error. Tentando novamente em 5 minutos.\n",
      "Erro de conexão: Response status: 500. Reason: Internal Server Error. Tentando novamente em 5 minutos.\n",
      "Próximo ano\n",
      "MG - chikungunya - 2022\n",
      "Erro de conexão: Response status: 500. Reason: Internal Server Error. Tentando novamente em 5 minutos.\n",
      "Erro de conexão: Response status: 500. Reason: Internal Server Error. Tentando novamente em 5 minutos.\n",
      "Erro de conexão: Response status: 500. Reason: Internal Server Error. Tentando novamente em 5 minutos.\n",
      "Próximo ano\n",
      "MG - chikungunya - 2023\n",
      "Erro de conexão: Response status: 500. Reason: Internal Server Error. Tentando novamente em 5 minutos.\n",
      "Erro de conexão: Response status: 500. Reason: Internal Server Error. Tentando novamente em 5 minutos.\n",
      "Erro de conexão: Response status: 500. Reason: Internal Server Error. Tentando novamente em 5 minutos.\n",
      "Erro de conexão: Response status: 500. Reason: Internal Server Error. Tentando novamente em 5 minutos.\n",
      "Próximo ano\n",
      "MG - chikungunya - 2024\n",
      "Erro de conexão: Response status: 500. Reason: Internal Server Error. Tentando novamente em 5 minutos.\n",
      "Erro de conexão: Response status: 500. Reason: Internal Server Error. Tentando novamente em 5 minutos.\n",
      "Erro de conexão: Response status: 500. Reason: Internal Server Error. Tentando novamente em 5 minutos.\n",
      "Erro de conexão: Response status: 500. Reason: Internal Server Error. Tentando novamente em 5 minutos.\n",
      "Erro de conexão: Response status: 500. Reason: Internal Server Error. Tentando novamente em 5 minutos.\n",
      "Número máximo de tentativas atingido. Pulando para o próximo ano.\n"
     ]
    },
    {
     "name": "stderr",
     "output_type": "stream",
     "text": [
      "C:\\Users\\lucas\\AppData\\Local\\Temp\\ipykernel_45624\\4081768529.py:58: FutureWarning: The behavior of DataFrame concatenation with empty or all-NA entries is deprecated. In a future version, this will no longer exclude empty or all-NA columns when determining the result dtypes. To retain the old behavior, exclude the relevant entries before the concat operation.\n",
      "  df_uf = pd.concat(dfs, ignore_index=True)\n"
     ]
    },
    {
     "name": "stdout",
     "output_type": "stream",
     "text": [
      "Esperando 5:30min\n",
      "PA - chikungunya - 2018\n",
      "Erro de conexão: Response status: 500. Reason: Internal Server Error. Tentando novamente em 5 minutos.\n",
      "Próximo ano\n",
      "PA - chikungunya - 2019\n",
      "Próximo ano\n",
      "PA - chikungunya - 2020\n",
      "Erro de conexão: Response status: 500. Reason: Internal Server Error. Tentando novamente em 5 minutos.\n",
      "Próximo ano\n",
      "PA - chikungunya - 2021\n",
      "Próximo ano\n",
      "PA - chikungunya - 2022\n",
      "Erro de conexão: Response status: 500. Reason: Internal Server Error. Tentando novamente em 5 minutos.\n",
      "Próximo ano\n",
      "PA - chikungunya - 2023\n",
      "Erro de conexão: Response status: 500. Reason: Internal Server Error. Tentando novamente em 5 minutos.\n",
      "Próximo ano\n",
      "PA - chikungunya - 2024\n",
      "Erro de conexão: Response status: 500. Reason: Internal Server Error. Tentando novamente em 5 minutos.\n",
      "Próximo ano\n"
     ]
    },
    {
     "name": "stderr",
     "output_type": "stream",
     "text": [
      "C:\\Users\\lucas\\AppData\\Local\\Temp\\ipykernel_45624\\4081768529.py:58: FutureWarning: The behavior of DataFrame concatenation with empty or all-NA entries is deprecated. In a future version, this will no longer exclude empty or all-NA columns when determining the result dtypes. To retain the old behavior, exclude the relevant entries before the concat operation.\n",
      "  df_uf = pd.concat(dfs, ignore_index=True)\n"
     ]
    },
    {
     "name": "stdout",
     "output_type": "stream",
     "text": [
      "Esperando 5:30min\n",
      "PB - chikungunya - 2018\n",
      "Erro de conexão: Response status: 500. Reason: Internal Server Error. Tentando novamente em 5 minutos.\n",
      "Próximo ano\n",
      "PB - chikungunya - 2019\n",
      "Erro de conexão: Response status: 500. Reason: Internal Server Error. Tentando novamente em 5 minutos.\n",
      "Próximo ano\n",
      "PB - chikungunya - 2020\n",
      "Erro de conexão: Response status: 500. Reason: Internal Server Error. Tentando novamente em 5 minutos.\n",
      "Próximo ano\n",
      "PB - chikungunya - 2021\n",
      "Erro de conexão: Response status: 500. Reason: Internal Server Error. Tentando novamente em 5 minutos.\n",
      "Próximo ano\n",
      "PB - chikungunya - 2022\n",
      "Erro de conexão: Response status: 500. Reason: Internal Server Error. Tentando novamente em 5 minutos.\n",
      "Próximo ano\n",
      "PB - chikungunya - 2023\n",
      "Erro de conexão: Response status: 500. Reason: Internal Server Error. Tentando novamente em 5 minutos.\n",
      "Próximo ano\n",
      "PB - chikungunya - 2024\n",
      "Erro de conexão: Response status: 500. Reason: Internal Server Error. Tentando novamente em 5 minutos.\n",
      "Erro de conexão: Response status: 500. Reason: Internal Server Error. Tentando novamente em 5 minutos.\n",
      "Próximo ano\n"
     ]
    },
    {
     "name": "stderr",
     "output_type": "stream",
     "text": [
      "C:\\Users\\lucas\\AppData\\Local\\Temp\\ipykernel_45624\\4081768529.py:58: FutureWarning: The behavior of DataFrame concatenation with empty or all-NA entries is deprecated. In a future version, this will no longer exclude empty or all-NA columns when determining the result dtypes. To retain the old behavior, exclude the relevant entries before the concat operation.\n",
      "  df_uf = pd.concat(dfs, ignore_index=True)\n"
     ]
    },
    {
     "name": "stdout",
     "output_type": "stream",
     "text": [
      "Esperando 5:30min\n",
      "PR - chikungunya - 2018\n",
      "Erro de conexão: Response status: 500. Reason: Internal Server Error. Tentando novamente em 5 minutos.\n",
      "Erro de conexão: Response status: 500. Reason: Internal Server Error. Tentando novamente em 5 minutos.\n",
      "Próximo ano\n",
      "PR - chikungunya - 2019\n",
      "Erro de conexão: Response status: 500. Reason: Internal Server Error. Tentando novamente em 5 minutos.\n",
      "Erro de conexão: Response status: 500. Reason: Internal Server Error. Tentando novamente em 5 minutos.\n",
      "Próximo ano\n",
      "PR - chikungunya - 2020\n",
      "Erro de conexão: Response status: 500. Reason: Internal Server Error. Tentando novamente em 5 minutos.\n",
      "Erro de conexão: Response status: 500. Reason: Internal Server Error. Tentando novamente em 5 minutos.\n",
      "Próximo ano\n",
      "PR - chikungunya - 2021\n",
      "Erro de conexão: Response status: 500. Reason: Internal Server Error. Tentando novamente em 5 minutos.\n",
      "Erro de conexão: Response status: 500. Reason: Internal Server Error. Tentando novamente em 5 minutos.\n",
      "Próximo ano\n",
      "PR - chikungunya - 2022\n",
      "Erro de conexão: Response status: 500. Reason: Internal Server Error. Tentando novamente em 5 minutos.\n",
      "Erro de conexão: Response status: 500. Reason: Internal Server Error. Tentando novamente em 5 minutos.\n",
      "Erro de conexão: Response status: 500. Reason: Internal Server Error. Tentando novamente em 5 minutos.\n",
      "Próximo ano\n",
      "PR - chikungunya - 2023\n",
      "Erro de conexão: Response status: 500. Reason: Internal Server Error. Tentando novamente em 5 minutos.\n",
      "Erro de conexão: Response status: 500. Reason: Internal Server Error. Tentando novamente em 5 minutos.\n",
      "Próximo ano\n",
      "PR - chikungunya - 2024\n",
      "Erro de conexão: Response status: 500. Reason: Internal Server Error. Tentando novamente em 5 minutos.\n",
      "Erro de conexão: Response status: 500. Reason: Internal Server Error. Tentando novamente em 5 minutos.\n",
      "Erro de conexão: Response status: 500. Reason: Internal Server Error. Tentando novamente em 5 minutos.\n",
      "Próximo ano\n"
     ]
    },
    {
     "name": "stderr",
     "output_type": "stream",
     "text": [
      "C:\\Users\\lucas\\AppData\\Local\\Temp\\ipykernel_45624\\4081768529.py:58: FutureWarning: The behavior of DataFrame concatenation with empty or all-NA entries is deprecated. In a future version, this will no longer exclude empty or all-NA columns when determining the result dtypes. To retain the old behavior, exclude the relevant entries before the concat operation.\n",
      "  df_uf = pd.concat(dfs, ignore_index=True)\n"
     ]
    },
    {
     "name": "stdout",
     "output_type": "stream",
     "text": [
      "Esperando 5:30min\n",
      "PE - chikungunya - 2018\n"
     ]
    }
   ],
   "source": [
    "max_retries = 5\n",
    "retry_delay = 300 \n",
    "\n",
    "for arbovirose in arboviroses:\n",
    "    for uf in ufs:\n",
    "\n",
    "        if uf != ufs[0]:\n",
    "            print('Esperando 5:30min')\n",
    "            time.sleep(330)\n",
    "\n",
    "        for year in years:\n",
    "\n",
    "            print(f'{uf} - {arbovirose} - {str(year)}')\n",
    "\n",
    "            start_date = f'{year}-01-01'\n",
    "            if year == date.today().year:\n",
    "                end_date = str(date.today())\n",
    "            else:\n",
    "                end_date = f'{year}-12-31'\n",
    "\n",
    "            attempt = 0\n",
    "            while attempt < max_retries:\n",
    "                try:\n",
    "                    # Tenta fazer a requisição\n",
    "                    df_year = get_infodengue(\n",
    "                        start_date=start_date,\n",
    "                        end_date=end_date,\n",
    "                        disease=arbovirose,\n",
    "                        uf=uf\n",
    "                    )\n",
    "                    df_year['uf'] = uf\n",
    "                    df_year['CID'] = arbovirose\n",
    "\n",
    "                    dfs.append(df_year)\n",
    "                    \n",
    "                    time.sleep(20)\n",
    "                    print('Próximo ano')\n",
    "                    break \n",
    "\n",
    "                except ClientConnectionError as e:\n",
    "                    print(f\"Erro de conexão: {e}. Tentando novamente em 5 minutos.\")\n",
    "                    attempt += 1\n",
    "                    if attempt < max_retries:\n",
    "                        time.sleep(retry_delay) \n",
    "                    else:\n",
    "                        print(\"Número máximo de tentativas atingido. Pulando para o próximo ano.\")\n",
    "\n",
    "                except Exception as e:\n",
    "                    print(f\"Ocorreu um erro: {e}. Tentando novamente em 5 minutos.\")\n",
    "                    attempt += 1\n",
    "                    if attempt < max_retries:\n",
    "                        time.sleep(retry_delay)  \n",
    "                    else:\n",
    "                        print(\"Número máximo de tentativas atingido. Pulando para o próximo ano.\")\n",
    "\n",
    "        # Salvando ao finalizar cada estado\n",
    "        if dfs:\n",
    "            df_uf = pd.concat(dfs, ignore_index=True)\n",
    "            df_uf.to_csv('../data/df_mosqlimate_uf_chik.csv', sep=\";\", decimal=\".\", index=False)\n",
    "\n",
    "# Salvando ao finalizar tudo\n",
    "if dfs:\n",
    "    df_final = pd.concat(dfs, ignore_index=True)\n",
    "    df_final.to_csv('../data/df_mosqlimate_chik.csv', sep=\";\", decimal=\".\", index=False)"
   ]
  }
 ],
 "metadata": {
  "kernelspec": {
   "display_name": "venv",
   "language": "python",
   "name": "python3"
  },
  "language_info": {
   "codemirror_mode": {
    "name": "ipython",
    "version": 3
   },
   "file_extension": ".py",
   "mimetype": "text/x-python",
   "name": "python",
   "nbconvert_exporter": "python",
   "pygments_lexer": "ipython3",
   "version": "3.12.4"
  }
 },
 "nbformat": 4,
 "nbformat_minor": 2
}
